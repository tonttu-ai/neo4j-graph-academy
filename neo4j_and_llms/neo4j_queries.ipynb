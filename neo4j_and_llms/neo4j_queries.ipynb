{
 "cells": [
  {
   "cell_type": "code",
   "execution_count": 9,
   "metadata": {},
   "outputs": [],
   "source": [
    "import os\n",
    "from langchain_community.graphs import Neo4jGraph\n",
    "from langchain_openai import OpenAIEmbeddings, ChatOpenAI\n",
    "from langchain.chains import RetrievalQA\n",
    "from langchain_community.vectorstores.neo4j_vector import Neo4jVector\n",
    "from dotenv import load_dotenv\n",
    "\n",
    "# load the environment variables\n",
    "load_dotenv()\n",
    "\n",
    "# get API key from environment variable\n",
    "OPENAI_API_KEY = os.getenv(\"OPENAI_API_KEY\")\n",
    "\n",
    "# create a retrieval QA object\n",
    "chat_llm = ChatOpenAI(openai_api_key=OPENAI_API_KEY)\n",
    "\n",
    "# create an openai embeddings object\n",
    "embedding_provider = OpenAIEmbeddings(openai_api_key=OPENAI_API_KEY)\n",
    "\n",
    "# create a vector store object\n",
    "movie_plot_vector = Neo4jVector.from_existing_index(\n",
    "    embedding_provider,\n",
    "    url=\"bolt://44.201.38.129:7687\",\n",
    "    username=\"neo4j\",\n",
    "    password=\"journals-cupful-lot\",\n",
    "    index_name=\"moviePlots\",\n",
    "    embedding_node_property=\"embedding\",\n",
    "    text_node_property=\"plot\",\n",
    ")\n",
    "\n",
    "# create a graph object, including connection to the neo4j database\n",
    "graph = Neo4jGraph(\n",
    "    url=\"bolt://44.201.38.129:7687\",\n",
    "    username=\"neo4j\",\n",
    "    password=\"journals-cupful-lot\"\n",
    ")\n",
    "\n",
    "plot_retriever = RetrievalQA.from_llm(\n",
    "    llm=chat_llm,\n",
    "    retriever=movie_plot_vector.as_retriever(),\n",
    "    verbose=True,\n",
    "    return_source_documents=True\n",
    ")"
   ]
  },
  {
   "cell_type": "code",
   "execution_count": 11,
   "metadata": {},
   "outputs": [
    {
     "name": "stdout",
     "output_type": "stream",
     "text": [
      "\n",
      "\n",
      "\u001b[1m> Entering new RetrievalQA chain...\u001b[0m\n",
      "\n",
      "\u001b[1m> Finished chain.\u001b[0m\n",
      "{'query': 'A movie where a mission to the moon goes wrong, starrin Tom Hanks',\n",
      " 'result': 'The movie you are referring to is \"Apollo 13\" starring Tom Hanks. '\n",
      "           'It depicts the real-life mission where NASA had to bring the '\n",
      "           'damaged spacecraft and its crew safely back to Earth.',\n",
      " 'source_documents': [Document(page_content='Humanity finds a mysterious, obviously artificial object buried beneath the Lunar surface and, with the intelligent computer H.A.L. 9000, sets off on a quest.', metadata={'budget': 12000000, 'movieId': '924', 'tmdbId': '62', 'imdbVotes': 407650, 'runtime': 149, 'countries': ['USA', ' UK'], 'imdbId': '0062622', 'url': 'https://themoviedb.org/movie/62', 'released': '1968-05-15', 'languages': ['English', ' Russian'], 'imdbRating': 8.3, 'title': '2001: A Space Odyssey', 'poster': 'https://image.tmdb.org/t/p/w440_and_h660_face/zmmYdPa8Lxx999Af9vnVP4XQ1V6.jpg', 'year': 1968, 'revenue': 68700000}),\n",
      "                      Document(page_content='NASA must devise a strategy to return Apollo 13 to Earth safely after the spacecraft undergoes massive internal damage putting the lives of the three astronauts on board in jeopardy.', metadata={'budget': 52000000, 'movieId': '150', 'tmdbId': '568', 'imdbVotes': 203181, 'runtime': 140, 'countries': ['USA'], 'imdbId': '0112384', 'url': 'https://themoviedb.org/movie/568', 'released': '1995-06-30', 'languages': ['English'], 'imdbRating': 7.6, 'title': 'Apollo 13', 'poster': 'https://image.tmdb.org/t/p/w440_and_h660_face/oYUZHYMwNKnE1ef4WE5Hw2a9OAY.jpg', 'year': 1995, 'revenue': 355237933}),\n",
      "                      Document(page_content='The story of the original Mercury 7 astronauts and their macho, seat-of-the-pants approach to the space program.', metadata={'budget': 27000000, 'movieId': '1231', 'tmdbId': '9549', 'imdbVotes': 44030, 'runtime': 193, 'countries': ['USA'], 'imdbId': '0086197', 'url': 'https://themoviedb.org/movie/9549', 'released': '1984-02-17', 'languages': ['English', ' Russian'], 'imdbRating': 7.9, 'title': 'Right Stuff, The', 'poster': 'https://image.tmdb.org/t/p/w440_and_h660_face/btqTjNRxecYgQ1FGfVlLqSSNjz.jpg', 'year': 1983, 'revenue': 21500000}),\n",
      "                      Document(page_content='Mike Nelson and his robot companions watch and give their comments about This Island Earth (1955).', metadata={'movieId': '671', 'tmdbId': '3065', 'imdbVotes': 15229, 'runtime': 73, 'countries': ['USA'], 'imdbId': '0117128', 'url': 'https://themoviedb.org/movie/3065', 'released': '1996-06-21', 'languages': ['English'], 'imdbRating': 7.5, 'title': 'Mystery Science Theater 3000: The Movie', 'poster': 'https://image.tmdb.org/t/p/w440_and_h660_face/tlakU3uwNiUgd7aOlb2RoAsGTnY.jpg', 'year': 1996})]}\n"
     ]
    }
   ],
   "source": [
    "import pprint\n",
    "result = plot_retriever.invoke(\n",
    "    {\"query\": \"A movie where a mission to the moon goes wrong, starrin Tom Hanks\"}\n",
    ")\n",
    "\n",
    "pprint.pprint(result)\n"
   ]
  },
  {
   "cell_type": "code",
   "execution_count": 3,
   "metadata": {},
   "outputs": [
    {
     "name": "stdout",
     "output_type": "stream",
     "text": [
      "Node properties are the following:\n",
      "Movie {url: STRING, runtime: INTEGER, revenue: INTEGER, budget: INTEGER, embedding: LIST, imdbRating: FLOAT, released: STRING, countries: LIST, languages: LIST, plot: STRING, imdbVotes: INTEGER, imdbId: STRING, year: INTEGER, poster: STRING, movieId: STRING, tmdbId: STRING, title: STRING},Genre {name: STRING},User {userId: STRING, name: STRING},Actor {url: STRING, died: DATE, born: DATE, imdbId: STRING, name: STRING, tmdbId: STRING, bornIn: STRING, bio: STRING, poster: STRING},Director {url: STRING, bornIn: STRING, bio: STRING, died: DATE, born: DATE, imdbId: STRING, name: STRING, poster: STRING, tmdbId: STRING},Person {url: STRING, bornIn: STRING, bio: STRING, died: DATE, born: DATE, imdbId: STRING, name: STRING, poster: STRING, tmdbId: STRING}\n",
      "Relationship properties are the following:\n",
      "RATED {rating: FLOAT, timestamp: INTEGER},ACTED_IN {role: STRING},DIRECTED {role: STRING}\n",
      "The relationships are the following:\n",
      "(:Movie)-[:IN_GENRE]->(:Genre),(:User)-[:RATED]->(:Movie),(:Actor)-[:ACTED_IN]->(:Movie),(:Actor)-[:DIRECTED]->(:Movie),(:Director)-[:DIRECTED]->(:Movie),(:Director)-[:ACTED_IN]->(:Movie),(:Person)-[:ACTED_IN]->(:Movie),(:Person)-[:DIRECTED]->(:Movie)\n"
     ]
    }
   ],
   "source": [
    "print(graph.schema)"
   ]
  },
  {
   "cell_type": "code",
   "execution_count": 4,
   "metadata": {},
   "outputs": [
    {
     "name": "stdout",
     "output_type": "stream",
     "text": [
      "Coneheads - Aliens with conical crania crash land on Earth.\n",
      "Aliens - The planet from Alien (1979) has been colonized, but contact is lost. This time, the rescue team has impressive firepower, but will it be enough?\n",
      "Independence Day (a.k.a. ID4) - The aliens are coming and their goal is to invade and destroy Earth. Fighting superior technology, mankind's best weapon is the will to survive.\n",
      "Arrival, The - Zane, an astronomer, discovers intelligent alien life. But the aliens are keeping a deadly secret, and will do anything to stop Zane from learning it.\n"
     ]
    }
   ],
   "source": [
    "result = movie_plot_vector.similarity_search(\"A movie where aliens land and attack earth.\")\n",
    "for doc in result:\n",
    "    print(doc.metadata[\"title\"], \"-\", doc.page_content)"
   ]
  },
  {
   "cell_type": "code",
   "execution_count": 5,
   "metadata": {},
   "outputs": [
    {
     "name": "stdout",
     "output_type": "stream",
     "text": [
      "Black Beauty - The fates of horses, and the people who own and command them, are revealed as Black Beauty narrates the circle of his life.\n",
      "Little Princess, A - A young girl is relegated to servitude at a boarding school when her father goes missing and is presumed dead.\n",
      "Horseman on the Roof, The (Hussard sur le toit, Le) - In a time of war and disease, a young officer gallantly tries to help a young woman find her husband.\n",
      "So Dear to My Heart - This heartwarming classic tells the tale of a country boy who adopts a mischevious black lamb and learns valuable lessons about love and dedication.\n"
     ]
    }
   ],
   "source": [
    "result = movie_plot_vector.similarity_search(\"A movie about a girl and a horse.\")\n",
    "for doc in result:\n",
    "    print(doc.metadata[\"title\"], \"-\", doc.page_content)"
   ]
  },
  {
   "cell_type": "code",
   "execution_count": null,
   "metadata": {},
   "outputs": [],
   "source": []
  }
 ],
 "metadata": {
  "kernelspec": {
   "display_name": "Python 3",
   "language": "python",
   "name": "python3"
  },
  "language_info": {
   "codemirror_mode": {
    "name": "ipython",
    "version": 3
   },
   "file_extension": ".py",
   "mimetype": "text/x-python",
   "name": "python",
   "nbconvert_exporter": "python",
   "pygments_lexer": "ipython3",
   "version": "3.11.8"
  }
 },
 "nbformat": 4,
 "nbformat_minor": 2
}
